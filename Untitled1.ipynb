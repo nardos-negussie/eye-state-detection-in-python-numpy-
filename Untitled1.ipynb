{
 "cells": [
  {
   "cell_type": "code",
   "execution_count": 1,
   "metadata": {},
   "outputs": [],
   "source": [
    "import numpy as np"
   ]
  },
  {
   "cell_type": "code",
   "execution_count": 2,
   "metadata": {},
   "outputs": [],
   "source": [
    "import tensorflow as tf"
   ]
  },
  {
   "cell_type": "code",
   "execution_count": 5,
   "metadata": {},
   "outputs": [],
   "source": [
    "from keras import layers"
   ]
  },
  {
   "cell_type": "code",
   "execution_count": 4,
   "metadata": {},
   "outputs": [],
   "source": [
    "from keras import models"
   ]
  },
  {
   "cell_type": "code",
   "execution_count": 6,
   "metadata": {},
   "outputs": [],
   "source": [
    "import os"
   ]
  },
  {
   "cell_type": "code",
   "execution_count": 9,
   "metadata": {},
   "outputs": [
    {
     "name": "stdout",
     "output_type": "stream",
     "text": [
      "\u001b[0m\u001b[01;35m1.jpg\u001b[0m                         haar_cascade_frontal_face_default.xml\r\n",
      "b11.npy                       \u001b[01;35mimages.jpg\u001b[0m\r\n",
      "b1.npy                        IMG_2806.JPG\r\n",
      "b22.npy                       \u001b[01;35mtest_closed.jpg\u001b[0m\r\n",
      "b2.npy                        \u001b[01;35mtest_open2.jpg\u001b[0m\r\n",
      "data.npy                      \u001b[01;35mtest_open3.jpg\u001b[0m\r\n",
      "\u001b[01;34mdataset_B_Eye_Images\u001b[0m/         \u001b[01;35mtest_open.jpg\u001b[0m\r\n",
      "\u001b[01;32mdataset_B_Eye_Images.rar\u001b[0m*     Untitled1.ipynb\r\n",
      "\u001b[01;32mdataset_B_Facial_Images.rar\u001b[0m*  Untitled.ipynb\r\n",
      "\u001b[01;35mdownload.jpeg\u001b[0m                 W11.npy\r\n",
      "\u001b[01;35mdownload.jpg\u001b[0m                  W1.npy\r\n",
      "eye91.ipynb                   W22.npy\r\n",
      "eye (copy).ipynb              W2.npy\r\n",
      "eye.ipynb                     X_shuffled.npy\r\n",
      "\u001b[01;35mGettyImages-491743299_0.jpg\u001b[0m   Y_shuffled.npy\r\n",
      "haar_cascade_eye.xml\r\n"
     ]
    }
   ],
   "source": [
    "ls"
   ]
  },
  {
   "cell_type": "code",
   "execution_count": null,
   "metadata": {},
   "outputs": [],
   "source": []
  }
 ],
 "metadata": {
  "kernelspec": {
   "display_name": "Python 3",
   "language": "python",
   "name": "python3"
  },
  "language_info": {
   "codemirror_mode": {
    "name": "ipython",
    "version": 2
   },
   "file_extension": ".py",
   "mimetype": "text/x-python",
   "name": "python",
   "nbconvert_exporter": "python",
   "pygments_lexer": "ipython2",
   "version": "2.7.13"
  }
 },
 "nbformat": 4,
 "nbformat_minor": 2
}
