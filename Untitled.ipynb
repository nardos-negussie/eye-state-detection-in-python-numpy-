{
 "cells": [
  {
   "cell_type": "code",
   "execution_count": 3,
   "metadata": {
    "collapsed": true
   },
   "outputs": [],
   "source": [
    "import numpy as np"
   ]
  },
  {
   "cell_type": "code",
   "execution_count": 4,
   "metadata": {
    "scrolled": true
   },
   "outputs": [],
   "source": [
    "X_loaded = np.load('X_shuffled.npy')"
   ]
  },
  {
   "cell_type": "code",
   "execution_count": 5,
   "metadata": {},
   "outputs": [],
   "source": [
    "Y_loaded= np.load('Y_shuffled.npy')"
   ]
  },
  {
   "cell_type": "code",
   "execution_count": 6,
   "metadata": {
    "collapsed": true
   },
   "outputs": [],
   "source": [
    "X_train = np.concatenate((X_loaded[0:1944],X_loaded[2903:]))\n",
    "Y_train = np.concatenate((Y_loaded[0:1944],Y_loaded[2903:]))\n",
    "X_test = X_loaded[1944:2903]\n",
    "Y_test = Y_loaded[1944:2903]"
   ]
  },
  {
   "cell_type": "code",
   "execution_count": 34,
   "metadata": {
    "collapsed": true
   },
   "outputs": [],
   "source": [
    "class eye_nn:\n",
    "    def __init__(self):\n",
    "        self.parameters={}\n",
    "        self.parameters['W1'] = np.load('W1.npy')\n",
    "        self.parameters['W2'] = np.load('W2.npy')\n",
    "        self.parameters['b1'] = np.load('b1.npy')\n",
    "        self.parameters['b2'] = np.load('b2.npy')\n",
    "    \n",
    "    def layer_sizes(self, X, Y):\n",
    "        n_x = X.shape[0] # size of input layer\n",
    "        n_h = 4\n",
    "        n_y = Y.shape[0] # size of output layer\n",
    "\n",
    "        return (n_x, n_h, n_y)\n",
    "\n",
    "    \n",
    "    def initialize_parameters(self, n_x, n_h, n_y):\n",
    "        np.random.seed(62) # we set up a seed so that your output matches ours although the initialization is random.\n",
    "        W1 = np.random.randn(n_h,n_x)*0.01\n",
    "        b1 = np.zeros((n_h,1))\n",
    "        W2 = np.random.randn(n_y,n_h)*0.01\n",
    "        b2 = np.zeros((n_y,1))\n",
    "        assert (W1.shape == (n_h, n_x))\n",
    "        assert (b1.shape == (n_h, 1))\n",
    "        assert (W2.shape == (n_y, n_h))\n",
    "        assert (b2.shape == (n_y, 1))\n",
    "        self.parameters={}\n",
    "        self.parameters = {\"W1\": W1,\n",
    "                      \"b1\": b1,\n",
    "                      \"W2\": W2,\n",
    "                      \"b2\": b2}\n",
    "\n",
    "        \n",
    "\n",
    "    def sigmoid(self,z):\n",
    "        return 1./(1.+np.exp(-z))\n",
    "    def forward_propagation(self, X):\n",
    "        W1 = self.parameters['W1']\n",
    "        b1 = self.parameters['b1']\n",
    "        W2 = self.parameters['W2']\n",
    "        b2 = self.parameters['b2']\n",
    "        \n",
    "        Z1 = np.dot(W1,X) + b1\n",
    "        A1 = np.tanh(Z1)\n",
    "        Z2 = np.dot(W2,A1) + b2\n",
    "        A2 = self.sigmoid(Z2)\n",
    "       \n",
    "        assert(A2.shape == (1, X.shape[1]))\n",
    "\n",
    "        cache = {\"Z1\": Z1,\n",
    "                 \"A1\": A1,\n",
    "                 \"Z2\": Z2,\n",
    "                 \"A2\": A2}\n",
    "\n",
    "        return A2, cache\n",
    "    \n",
    "    def compute_cost(self,A2, Y):\n",
    "        m = Y.shape[1] # number of example\n",
    "        logprobs = np.add(np.multiply(np.log(A2+0.0001),Y) , np.multiply(np.log(1-A2 + 0.0001),1-Y))\n",
    "        cost = -np.sum(logprobs)/m\n",
    "        \n",
    "        cost = np.squeeze(cost)     # makes sure cost is the dimension we expect. \n",
    "                                    # E.g., turns [[17]] into 17 \n",
    "        assert(isinstance(cost, float))\n",
    "\n",
    "        return cost\n",
    "    \n",
    "    def backward_propagation(self, cache, X, Y):\n",
    "        m = X.shape[1]\n",
    "        \n",
    "        W1 = self.parameters['W1']\n",
    "        W2 = self.parameters['W2']\n",
    "        \n",
    "        A1 = cache['A1']\n",
    "        A2 = cache['A2']\n",
    "       \n",
    "        dZ2= np.subtract(A2,Y)\n",
    "        dW2 = np.dot(dZ2,A1.T)/m\n",
    "        db2 = np.sum(dZ2, axis=1, keepdims=True)/m\n",
    "        dZ1 = np.multiply(np.dot(W2.T, dZ2),(1-(A1**2)))\n",
    "        dW1 = np.dot(dZ1,X.T)/m\n",
    "        db1 = np.sum(dZ1, axis=1, keepdims=True)/m\n",
    "        \n",
    "        grads = {\"dW1\": dW1,\n",
    "                 \"db1\": db1,\n",
    "                 \"dW2\": dW2,\n",
    "                 \"db2\": db2}\n",
    "\n",
    "        return grads\n",
    "    \n",
    "    def update_parameters(self,grads, learning_rate = 1.2):\n",
    "        W1 = self.parameters['W1'] - (learning_rate*grads['dW1'])\n",
    "        b1 = self.parameters['b1'] - (learning_rate*grads['db1'])\n",
    "        W2 = self.parameters['W2'] - (learning_rate*grads['dW2'])\n",
    "        b2 = self.parameters['b2'] - (learning_rate*grads['db2'])\n",
    "\n",
    "        self.parameters = {\"W1\": W1,\n",
    "                      \"b1\": b1,\n",
    "                      \"W2\": W2,\n",
    "                      \"b2\": b2}\n",
    "\n",
    "    def predict(self, X):\n",
    "        A2, cache = self.forward_propagation(X)\n",
    "        predictions = (A2 > .5)\n",
    "       \n",
    "        return predictions    \n",
    "    \n",
    "    def train(self,X, Y, n_h, lr,num_iterations = 10000, print_cost=False):\n",
    "        np.random.seed(2)\n",
    "        n_x = self.layer_sizes(X, Y)[0]\n",
    "        n_y = self.layer_sizes(X, Y)[2]\n",
    "        self.costs=[]\n",
    "        self.initialize_parameters(n_x, n_h, n_y)\n",
    "        W1 = self.parameters['W1']\n",
    "        b1 = self.parameters['b1']\n",
    "        W2 = self.parameters['W2']\n",
    "        b2 = self.parameters['b2']\n",
    "\n",
    "        for i in range(0, num_iterations):\n",
    "            A2, cache = self.forward_propagation(X)\n",
    "            prediction = self.predict(X)\n",
    "            cost = self.compute_cost(A2, Y)\n",
    "            grads = self.backward_propagation(cache, X, Y)\n",
    "            self.update_parameters(grads, learning_rate=lr)\n",
    "            self.costs.append(cost)\n",
    "            # Print the cost every 1000 iterations\n",
    "            if print_cost and i % 100 == 0:\n",
    "                print (\"Cost after iteration %i: %f\" %(i, cost))\n",
    "            \n",
    "       \n",
    "        print ('Train accuracy: %d' % float((np.dot(Y,prediction.T) + np.dot(1-Y,1-prediction.T))/float(Y.size)*100) + '%')\n",
    "        \n",
    "    def test(self, X_test, Y_test):\n",
    "        self.parameters['W1'] = np.load('W1.npy')\n",
    "        self.parameters['W2'] = np.load('W2.npy')\n",
    "        self.parameters['b1'] = np.load('b1.npy')\n",
    "        self.parameters['b2'] = np.load('b2.npy')\n",
    "        prediction = self.predict(X_test)\n",
    "        accuracy = np.sum(prediction == Y_test)\n",
    "        print ('Test ccuracy: %d' % float((np.dot(Y_test,prediction.T) + np.dot(1-Y_test,1-prediction.T))/float(Y_test.size)*100) + '%')\n",
    "        "
   ]
  },
  {
   "cell_type": "code",
   "execution_count": 35,
   "metadata": {},
   "outputs": [],
   "source": [
    "eye = eye_nn()"
   ]
  },
  {
   "cell_type": "code",
   "execution_count": 23,
   "metadata": {},
   "outputs": [
    {
     "name": "stdout",
     "output_type": "stream",
     "text": [
      "Cost after iteration 0: 0.692909\n"
     ]
    },
    {
     "ename": "KeyboardInterrupt",
     "evalue": "",
     "output_type": "error",
     "traceback": [
      "\u001b[0;31m---------------------------------------------------------------------------\u001b[0m",
      "\u001b[0;31mKeyboardInterrupt\u001b[0m                         Traceback (most recent call last)",
      "\u001b[0;32m<ipython-input-23-6409630bd0e1>\u001b[0m in \u001b[0;36m<module>\u001b[0;34m()\u001b[0m\n\u001b[1;32m      1\u001b[0m \u001b[0mnum_iter\u001b[0m \u001b[0;34m=\u001b[0m \u001b[0;36m43618\u001b[0m\u001b[0;34m\u001b[0m\u001b[0m\n\u001b[0;32m----> 2\u001b[0;31m \u001b[0meye\u001b[0m\u001b[0;34m.\u001b[0m\u001b[0mtrain\u001b[0m\u001b[0;34m(\u001b[0m\u001b[0mX_train\u001b[0m\u001b[0;34m.\u001b[0m\u001b[0mT\u001b[0m\u001b[0;34m,\u001b[0m \u001b[0mY_train\u001b[0m\u001b[0;34m.\u001b[0m\u001b[0mT\u001b[0m\u001b[0;34m,\u001b[0m \u001b[0;36m4\u001b[0m\u001b[0;34m,\u001b[0m \u001b[0;36m0.125\u001b[0m\u001b[0;34m,\u001b[0m \u001b[0mnum_iterations\u001b[0m\u001b[0;34m=\u001b[0m\u001b[0mnum_iter\u001b[0m\u001b[0;34m,\u001b[0m \u001b[0mprint_cost\u001b[0m\u001b[0;34m=\u001b[0m\u001b[0;32mTrue\u001b[0m\u001b[0;34m)\u001b[0m\u001b[0;34m\u001b[0m\u001b[0m\n\u001b[0m",
      "\u001b[0;32m<ipython-input-20-abb6c1fb6976>\u001b[0m in \u001b[0;36mtrain\u001b[0;34m(self, X, Y, n_h, lr, num_iterations, print_cost)\u001b[0m\n\u001b[1;32m    113\u001b[0m         \u001b[0;32mfor\u001b[0m \u001b[0mi\u001b[0m \u001b[0;32min\u001b[0m \u001b[0mrange\u001b[0m\u001b[0;34m(\u001b[0m\u001b[0;36m0\u001b[0m\u001b[0;34m,\u001b[0m \u001b[0mnum_iterations\u001b[0m\u001b[0;34m)\u001b[0m\u001b[0;34m:\u001b[0m\u001b[0;34m\u001b[0m\u001b[0m\n\u001b[1;32m    114\u001b[0m             \u001b[0mA2\u001b[0m\u001b[0;34m,\u001b[0m \u001b[0mcache\u001b[0m \u001b[0;34m=\u001b[0m \u001b[0mself\u001b[0m\u001b[0;34m.\u001b[0m\u001b[0mforward_propagation\u001b[0m\u001b[0;34m(\u001b[0m\u001b[0mX\u001b[0m\u001b[0;34m)\u001b[0m\u001b[0;34m\u001b[0m\u001b[0m\n\u001b[0;32m--> 115\u001b[0;31m             \u001b[0mprediction\u001b[0m \u001b[0;34m=\u001b[0m \u001b[0mself\u001b[0m\u001b[0;34m.\u001b[0m\u001b[0mpredict\u001b[0m\u001b[0;34m(\u001b[0m\u001b[0mX\u001b[0m\u001b[0;34m)\u001b[0m\u001b[0;34m\u001b[0m\u001b[0m\n\u001b[0m\u001b[1;32m    116\u001b[0m             \u001b[0mcost\u001b[0m \u001b[0;34m=\u001b[0m \u001b[0mself\u001b[0m\u001b[0;34m.\u001b[0m\u001b[0mcompute_cost\u001b[0m\u001b[0;34m(\u001b[0m\u001b[0mA2\u001b[0m\u001b[0;34m,\u001b[0m \u001b[0mY\u001b[0m\u001b[0;34m)\u001b[0m\u001b[0;34m\u001b[0m\u001b[0m\n\u001b[1;32m    117\u001b[0m             \u001b[0mgrads\u001b[0m \u001b[0;34m=\u001b[0m \u001b[0mself\u001b[0m\u001b[0;34m.\u001b[0m\u001b[0mbackward_propagation\u001b[0m\u001b[0;34m(\u001b[0m\u001b[0mcache\u001b[0m\u001b[0;34m,\u001b[0m \u001b[0mX\u001b[0m\u001b[0;34m,\u001b[0m \u001b[0mY\u001b[0m\u001b[0;34m)\u001b[0m\u001b[0;34m\u001b[0m\u001b[0m\n",
      "\u001b[0;32m<ipython-input-20-abb6c1fb6976>\u001b[0m in \u001b[0;36mpredict\u001b[0;34m(self, X)\u001b[0m\n\u001b[1;32m     95\u001b[0m \u001b[0;34m\u001b[0m\u001b[0m\n\u001b[1;32m     96\u001b[0m     \u001b[0;32mdef\u001b[0m \u001b[0mpredict\u001b[0m\u001b[0;34m(\u001b[0m\u001b[0mself\u001b[0m\u001b[0;34m,\u001b[0m \u001b[0mX\u001b[0m\u001b[0;34m)\u001b[0m\u001b[0;34m:\u001b[0m\u001b[0;34m\u001b[0m\u001b[0m\n\u001b[0;32m---> 97\u001b[0;31m         \u001b[0mA2\u001b[0m\u001b[0;34m,\u001b[0m \u001b[0mcache\u001b[0m \u001b[0;34m=\u001b[0m \u001b[0mself\u001b[0m\u001b[0;34m.\u001b[0m\u001b[0mforward_propagation\u001b[0m\u001b[0;34m(\u001b[0m\u001b[0mX\u001b[0m\u001b[0;34m)\u001b[0m\u001b[0;34m\u001b[0m\u001b[0m\n\u001b[0m\u001b[1;32m     98\u001b[0m         \u001b[0mpredictions\u001b[0m \u001b[0;34m=\u001b[0m \u001b[0;34m(\u001b[0m\u001b[0mA2\u001b[0m \u001b[0;34m>\u001b[0m \u001b[0;36m.5\u001b[0m\u001b[0;34m)\u001b[0m\u001b[0;34m\u001b[0m\u001b[0m\n\u001b[1;32m     99\u001b[0m \u001b[0;34m\u001b[0m\u001b[0m\n",
      "\u001b[0;32m<ipython-input-20-abb6c1fb6976>\u001b[0m in \u001b[0;36mforward_propagation\u001b[0;34m(self, X)\u001b[0m\n\u001b[1;32m     35\u001b[0m         \u001b[0mb2\u001b[0m \u001b[0;34m=\u001b[0m \u001b[0mself\u001b[0m\u001b[0;34m.\u001b[0m\u001b[0mparameters\u001b[0m\u001b[0;34m[\u001b[0m\u001b[0;34m'b2'\u001b[0m\u001b[0;34m]\u001b[0m\u001b[0;34m\u001b[0m\u001b[0m\n\u001b[1;32m     36\u001b[0m \u001b[0;34m\u001b[0m\u001b[0m\n\u001b[0;32m---> 37\u001b[0;31m         \u001b[0mZ1\u001b[0m \u001b[0;34m=\u001b[0m \u001b[0mnp\u001b[0m\u001b[0;34m.\u001b[0m\u001b[0mdot\u001b[0m\u001b[0;34m(\u001b[0m\u001b[0mW1\u001b[0m\u001b[0;34m,\u001b[0m\u001b[0mX\u001b[0m\u001b[0;34m)\u001b[0m \u001b[0;34m+\u001b[0m \u001b[0mb1\u001b[0m\u001b[0;34m\u001b[0m\u001b[0m\n\u001b[0m\u001b[1;32m     38\u001b[0m         \u001b[0mA1\u001b[0m \u001b[0;34m=\u001b[0m \u001b[0mnp\u001b[0m\u001b[0;34m.\u001b[0m\u001b[0mtanh\u001b[0m\u001b[0;34m(\u001b[0m\u001b[0mZ1\u001b[0m\u001b[0;34m)\u001b[0m\u001b[0;34m\u001b[0m\u001b[0m\n\u001b[1;32m     39\u001b[0m         \u001b[0mZ2\u001b[0m \u001b[0;34m=\u001b[0m \u001b[0mnp\u001b[0m\u001b[0;34m.\u001b[0m\u001b[0mdot\u001b[0m\u001b[0;34m(\u001b[0m\u001b[0mW2\u001b[0m\u001b[0;34m,\u001b[0m\u001b[0mA1\u001b[0m\u001b[0;34m)\u001b[0m \u001b[0;34m+\u001b[0m \u001b[0mb2\u001b[0m\u001b[0;34m\u001b[0m\u001b[0m\n",
      "\u001b[0;31mKeyboardInterrupt\u001b[0m: "
     ]
    }
   ],
   "source": [
    "num_iter = 43618\n",
    "eye.train(X_train.T, Y_train.T, 4, 0.125, num_iterations=num_iter, print_cost=True)"
   ]
  },
  {
   "cell_type": "code",
   "execution_count": 22,
   "metadata": {},
   "outputs": [
    {
     "ename": "AttributeError",
     "evalue": "'eye_nn' object has no attribute 'parameters'",
     "output_type": "error",
     "traceback": [
      "\u001b[0;31m---------------------------------------------------------------------------\u001b[0m",
      "\u001b[0;31mAttributeError\u001b[0m                            Traceback (most recent call last)",
      "\u001b[0;32m<ipython-input-22-6396a92e074e>\u001b[0m in \u001b[0;36m<module>\u001b[0;34m()\u001b[0m\n\u001b[0;32m----> 1\u001b[0;31m \u001b[0mW1\u001b[0m \u001b[0;34m=\u001b[0m \u001b[0meye\u001b[0m\u001b[0;34m.\u001b[0m\u001b[0mparameters\u001b[0m\u001b[0;34m[\u001b[0m\u001b[0;34m'W1'\u001b[0m\u001b[0;34m]\u001b[0m\u001b[0;34m\u001b[0m\u001b[0m\n\u001b[0m\u001b[1;32m      2\u001b[0m \u001b[0mW2\u001b[0m \u001b[0;34m=\u001b[0m \u001b[0meye\u001b[0m\u001b[0;34m.\u001b[0m\u001b[0mparameters\u001b[0m\u001b[0;34m[\u001b[0m\u001b[0;34m'W2'\u001b[0m\u001b[0;34m]\u001b[0m\u001b[0;34m\u001b[0m\u001b[0m\n\u001b[1;32m      3\u001b[0m \u001b[0mb1\u001b[0m \u001b[0;34m=\u001b[0m \u001b[0meye\u001b[0m\u001b[0;34m.\u001b[0m\u001b[0mparameters\u001b[0m\u001b[0;34m[\u001b[0m\u001b[0;34m'b1'\u001b[0m\u001b[0;34m]\u001b[0m\u001b[0;34m\u001b[0m\u001b[0m\n\u001b[1;32m      4\u001b[0m \u001b[0mb2\u001b[0m \u001b[0;34m=\u001b[0m \u001b[0meye\u001b[0m\u001b[0;34m.\u001b[0m\u001b[0mparameters\u001b[0m\u001b[0;34m[\u001b[0m\u001b[0;34m'b2'\u001b[0m\u001b[0;34m]\u001b[0m\u001b[0;34m\u001b[0m\u001b[0m\n",
      "\u001b[0;31mAttributeError\u001b[0m: 'eye_nn' object has no attribute 'parameters'"
     ]
    }
   ],
   "source": [
    "# W1 = eye.parameters['W1']\n",
    "# W2 = eye.parameters['W2']\n",
    "# b1 = eye.parameters['b1']\n",
    "# b2 = eye.parameters['b2']"
   ]
  },
  {
   "cell_type": "code",
   "execution_count": 18,
   "metadata": {
    "collapsed": true
   },
   "outputs": [],
   "source": [
    "# np.save('W12.npy', W1)\n",
    "\n",
    "\n",
    "# np.save('W22.npy', W2)\n",
    "\n",
    "# np.save('b12.npy', b1)\n",
    "\n",
    "# np.save('b22.npy', b2)"
   ]
  },
  {
   "cell_type": "code",
   "execution_count": 36,
   "metadata": {},
   "outputs": [
    {
     "name": "stdout",
     "output_type": "stream",
     "text": [
      "Test ccuracy: 95%\n"
     ]
    }
   ],
   "source": [
    "eye.test(X_test.T, Y_test.T)"
   ]
  },
  {
   "cell_type": "code",
   "execution_count": 29,
   "metadata": {},
   "outputs": [
    {
     "data": {
      "text/plain": [
       "array([[-0.29090241, -0.6257548 , -0.60663115, ...,  0.10296288,\n",
       "        -0.29110968,  0.14670059],\n",
       "       [-0.35182943, -0.83426904, -1.08923788, ..., -0.57770185,\n",
       "         0.15221091,  1.00195699],\n",
       "       [ 1.07599706,  0.55560976,  0.43178103, ...,  0.07743257,\n",
       "        -0.07686219, -0.07421493],\n",
       "       [ 0.17996466,  0.29938687,  0.24900975, ...,  0.23914143,\n",
       "         0.26842284,  0.07730838]])"
      ]
     },
     "execution_count": 29,
     "metadata": {},
     "output_type": "execute_result"
    }
   ],
   "source": [
    "W1 = np.load('W1.npy')\n",
    "W1"
   ]
  },
  {
   "cell_type": "code",
   "execution_count": null,
   "metadata": {
    "collapsed": true
   },
   "outputs": [],
   "source": []
  }
 ],
 "metadata": {
  "kernelspec": {
   "display_name": "Python 3",
   "language": "python",
   "name": "python3"
  },
  "language_info": {
   "codemirror_mode": {
    "name": "ipython",
    "version": 3
   },
   "file_extension": ".py",
   "mimetype": "text/x-python",
   "name": "python",
   "nbconvert_exporter": "python",
   "pygments_lexer": "ipython3",
   "version": "3.6.3"
  }
 },
 "nbformat": 4,
 "nbformat_minor": 2
}
